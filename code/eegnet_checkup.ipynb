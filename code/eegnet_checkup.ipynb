{
 "cells": [
  {
   "cell_type": "markdown",
   "id": "6107670f-deb8-4692-b0db-095700b5bf63",
   "metadata": {},
   "source": [
    "# EEGNet Checkup\n",
    "\n",
    "The purpose of this notebook is to investigate a newly BIDSified study within EEGStudyFlow to confirm it has all the additional [EEGNet](https://eegnet.Loris.ca) requirements.\n",
    "\n",
    "For more information about EEGNet see [EEGNet.org](https://eegnet.org) or contact the team at contact@eegnet.org.\n".
    "\n".
    "Further modification to a study may be necessary, however, this will prompt for missing information.\n",
    "\n",
    "These are outlined in the `init_bids_study.ipynb`, and can also be found within the notebook cells below.\n",
    "\n",
    "In order to confirm all fields are present, the notebook will load a single subject via `mne_bids` and attempt to read each field to confirm it exists."
   ]
  },
  {
   "cell_type": "code",
   "execution_count": 1,
   "id": "4eb1f5ba-dc92-43c5-968d-b29ed4a583df",
   "metadata": {},
   "outputs": [],
   "source": [
    "extended_requirements = {\n",
    "    'dataset_description': ['BIDSVersion', 'HEDVersion', 'Authors', 'License', 'DatasetType'],\n",
    "    'participants': ['age', 'sex'],\n",
    "    'eeg': ['CapManufacturer', 'CapManufacturersModelName', 'EEGChannelCount', 'EOGChannelCount',\n",
    "            'ECGChannelCount', 'EMGChannelCount', 'EEGGround', 'EEGPlacementScheme', 'HardwareFilters',\n",
    "            'InstitutionName', 'InstitutionAddress', 'MiscChannelCount', 'Manufacturer',\n",
    "            'ManufacturerModelName', 'RecordingType', 'RecordingDuration', 'SoftwareVersions', \n",
    "            'TriggerChannelCount', 'TaskDescription'],\n",
    "    'scans': ['acq_time'],\n",
    "}"
   ]
  },
  {
   "cell_type": "markdown",
   "id": "4d3a1881-c862-4b5b-b81d-ef2acffa9173",
   "metadata": {},
   "source": [
    "The following cell is not meant to be touched by users.\n",
    "\n",
    "Instead, run and refine your study based on the errors provided by the code block.\n",
    "\n",
    "In most cases, errors can be fixed by going back to the `init_bids_study.ipynb` notebook and providing more information about your study."
   ]
  },
  {
   "cell_type": "code",
   "execution_count": 64,
   "id": "66affa21-7b0d-45b2-a1d8-d45ebf5f7690",
   "metadata": {},
   "outputs": [
    {
     "data": {
      "text/plain": [
       "'Passing on fields for dataset_description.json'"
      ]
     },
     "metadata": {},
     "output_type": "display_data"
    },
    {
     "data": {
      "text/html": [
       "\n",
       "    <div style=\"\n",
       "        padding: 10px; \n",
       "        border: 2px solid darkred; \n",
       "        background-color: #ffcccc; \n",
       "        color: darkred; \n",
       "        font-weight: bold; \n",
       "        font-size: 16px; \n",
       "        border-radius: 5px;\n",
       "    \">\n",
       "        ⚠ Error: Missing participants.tsv fields: ['handedness']\n",
       "    </div>\n",
       "    "
      ],
      "text/plain": [
       "<IPython.core.display.HTML object>"
      ]
     },
     "metadata": {},
     "output_type": "display_data"
    },
    {
     "data": {
      "text/html": [
       "\n",
       "    <div style=\"\n",
       "        padding: 10px; \n",
       "        border: 2px solid darkred; \n",
       "        background-color: #ffcccc; \n",
       "        color: darkred; \n",
       "        font-weight: bold; \n",
       "        font-size: 16px; \n",
       "        border-radius: 5px;\n",
       "    \">\n",
       "        ⚠ Error: Missing eeg.json fields: ['CapManufacturer', 'CapManufacturersModelName', 'HardwareFilters', 'InstitutionName', 'InstitutionAddress', 'ManufacturerModelName', 'SoftwareVersions', 'TaskDescription', 'OutputType']\n",
       "    </div>\n",
       "    "
      ],
      "text/plain": [
       "<IPython.core.display.HTML object>"
      ]
     },
     "metadata": {},
     "output_type": "display_data"
    },
    {
     "data": {
      "text/plain": [
       "'Passing on fields for scans.tsv'"
      ]
     },
     "metadata": {},
     "output_type": "display_data"
    },
    {
     "data": {
      "text/html": [
       "\n",
       "    <div style=\"\n",
       "        padding: 10px; \n",
       "        border: 2px solid darkred; \n",
       "        background-color: #ffcccc; \n",
       "        color: darkred; \n",
       "        font-weight: bold; \n",
       "        font-size: 16px; \n",
       "        border-radius: 5px;\n",
       "    \">\n",
       "        ⚠ Error: Subject naming convention does not conform to EEGNet standard.\n",
       "Please make sure subject IDs are padded to 7 characters long containing a project label.\n",
       "    </div>\n",
       "    "
      ],
      "text/plain": [
       "<IPython.core.display.HTML object>"
      ]
     },
     "metadata": {},
     "output_type": "display_data"
    }
   ],
   "source": [
    "import mne, mne_bids, json\n",
    "import pandas as pd\n",
    "from IPython.display import display, HTML\n",
    "\n",
    "def show_error(message=\"Something went wrong!\"):\n",
    "    display(HTML(f\"\"\"\n",
    "    <div style=\"\n",
    "        padding: 10px; \n",
    "        border: 2px solid darkred; \n",
    "        background-color: #ffcccc; \n",
    "        color: darkred; \n",
    "        font-weight: bold; \n",
    "        font-size: 16px; \n",
    "        border-radius: 5px;\n",
    "    \">\n",
    "        ⚠ Error: {message}\n",
    "    </div>\n",
    "    \"\"\"))\n",
    "\n",
    "def left_out_message(must_have, source, label):\n",
    "    left_out = [item for item in must_have if item not in source]\n",
    "    if left_out:\n",
    "        show_error(f'Missing {label} fields: {left_out}')\n",
    "    else:\n",
    "        display(f'Passing on fields for {label}')\n",
    "\n",
    "bids_root = '..'\n",
    "\n",
    "with open(bids_root + '/dataset_description.json') as f:\n",
    "    dataset_description = json.load(f)\n",
    "    left_out_message(extended_requirements['dataset_description'], dataset_description, 'dataset_description.json')\n",
    "\n",
    "participants = pd.read_csv(bids_root + '/participants.tsv', sep='\\t')\n",
    "left_out_message(extended_requirements['participants'], participants.columns, 'participants.tsv')\n",
    "\n",
    "task_name = mne_bids.get_entity_vals(bids_root, entity_key='task')[0]\n",
    "subjects = mne_bids.get_entity_vals(bids_root, entity_key='subject')\n",
    "single_subject = mne_bids.BIDSPath(root=bids_root, subject=subjects[0], task=task_name, suffix='eeg', extension='.json', datatype='eeg')\n",
    "with open(single_subject.fpath, encoding=\"utf-8\") as f:\n",
    "    eeg_json = json.load(f)\n",
    "    left_out_message(extended_requirements['eeg'], eeg_json, 'eeg.json')\n",
    "\n",
    "single_subject_scans = mne_bids.BIDSPath(root=bids_root, subject=subjects[0], suffix='scans', extension='.tsv')\n",
    "scans = pd.read_csv(single_subject_scans.fpath, sep='\\t')\n",
    "left_out_message(extended_requirements['scans'], scans.columns, 'scans.tsv')\n",
    "\n",
    "if any(len(item) != 7 for item in subjects):\n",
    "    show_error(f'Subject naming convention does not conform to EEGNet standard.\\nPlease make sure subject IDs are padded to 7 characters long containing a project label.')"
   ]
  },
  {
   "cell_type": "markdown",
   "id": "28c57c9d-84a2-4576-8b42-5438d14589f5",
   "metadata": {},
   "source": [
    "If there are no red error boxes above this message, you are likely ready to share your data on [EEGNet](https://eegnet.loris.ca)!",
    "\n",
    "For more information about EEGNet see [EEGNet.org](https://eegnet.org) or contact the team at contact@eegnet.org.\n".
   ]
  }
 ],
 "metadata": {
  "kernelspec": {
   "display_name": "Python 3 (ipykernel)",
   "language": "python",
   "name": "python3"
  },
  "language_info": {
   "codemirror_mode": {
    "name": "ipython",
    "version": 3
   },
   "file_extension": ".py",
   "mimetype": "text/x-python",
   "name": "python",
   "nbconvert_exporter": "python",
   "pygments_lexer": "ipython3",
   "version": "3.12.3"
  }
 },
 "nbformat": 4,
 "nbformat_minor": 5
}
